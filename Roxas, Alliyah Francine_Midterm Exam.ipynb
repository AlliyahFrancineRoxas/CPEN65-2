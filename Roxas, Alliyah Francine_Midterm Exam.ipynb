{
  "nbformat": 4,
  "nbformat_minor": 0,
  "metadata": {
    "colab": {
      "provenance": [],
      "authorship_tag": "ABX9TyM+wdsQcP05jprHmH+EKuQJ",
      "include_colab_link": true
    },
    "kernelspec": {
      "name": "python3",
      "display_name": "Python 3"
    },
    "language_info": {
      "name": "python"
    }
  },
  "cells": [
    {
      "cell_type": "markdown",
      "metadata": {
        "id": "view-in-github",
        "colab_type": "text"
      },
      "source": [
        "<a href=\"https://colab.research.google.com/github/AlliyahFrancineRoxas/CPEN65-2/blob/main/Roxas%2C%20Alliyah%20Francine_Midterm%20Exam.ipynb\" target=\"_parent\"><img src=\"https://colab.research.google.com/assets/colab-badge.svg\" alt=\"Open In Colab\"/></a>"
      ]
    },
    {
      "cell_type": "markdown",
      "source": [
        "MIDTERM"
      ],
      "metadata": {
        "id": "C1VNslnSO9Jq"
      }
    },
    {
      "cell_type": "markdown",
      "source": [
        "1. Write a Python program to create an array of 10 integers and display the array items. Access individual elements through indexes and compute for the sum."
      ],
      "metadata": {
        "id": "x2Wt-rcDXt0U"
      }
    },
    {
      "cell_type": "code",
      "source": [
        "numbers = [1, 2, 3, 4, 5, 6, 7, 8, 9, 10]\n",
        "\n",
        "print(\"Integer Numbers \")\n",
        "\n",
        "for index , val in enumerate(numbers):\n",
        "  print(\"Array\",[index],'=', val)\n",
        "\n",
        "  ans = sum(numbers)\n",
        "print(\"Sum =\", ans)\n"
      ],
      "metadata": {
        "colab": {
          "base_uri": "https://localhost:8080/"
        },
        "id": "2EUUUjd3YJcK",
        "outputId": "6c009f5d-3609-4dfb-f199-b4959a392846"
      },
      "execution_count": 132,
      "outputs": [
        {
          "output_type": "stream",
          "name": "stdout",
          "text": [
            "Integer Numbers \n",
            "Array [0] = 1\n",
            "Array [1] = 2\n",
            "Array [2] = 3\n",
            "Array [3] = 4\n",
            "Array [4] = 5\n",
            "Array [5] = 6\n",
            "Array [6] = 7\n",
            "Array [7] = 8\n",
            "Array [8] = 9\n",
            "Array [9] = 10\n",
            "Sum = 55\n"
          ]
        }
      ]
    },
    {
      "cell_type": "markdown",
      "source": [
        "2. Write a Python program to append a new item to the end of the array. Original\n",
        "array: numbers = [1, 2, 3, 4, 5, 6, 7, 8, 9, 10]"
      ],
      "metadata": {
        "id": "SoC-I9tebG01"
      }
    },
    {
      "cell_type": "code",
      "source": [
        "numbers = [1, 2, 3, 4, 5, 6, 7, 8, 9, 10]\n",
        "print(\"Array =\", numbers)\n",
        "app = int(input(\"Enter new Item to append: \"))\n",
        "numbers.append(app)\n",
        "print(\"New Array =\",numbers)"
      ],
      "metadata": {
        "colab": {
          "base_uri": "https://localhost:8080/"
        },
        "id": "5EhxxISzWQfj",
        "outputId": "3c9d7396-a4d4-41ee-e614-1f8455e19de3"
      },
      "execution_count": 133,
      "outputs": [
        {
          "output_type": "stream",
          "name": "stdout",
          "text": [
            "Array = [1, 2, 3, 4, 5, 6, 7, 8, 9, 10]\n",
            "Enter new Item to append: 19\n",
            "New Array = [1, 2, 3, 4, 5, 6, 7, 8, 9, 10, 19]\n"
          ]
        }
      ]
    },
    {
      "cell_type": "markdown",
      "source": [
        "3. Write a Python program to insert a new item before the second element in an\n",
        "existing array. Original array: numbers = [1, 2, 3, 4, 5, 6, 7, 8, 9, 10]"
      ],
      "metadata": {
        "id": "afXue1kJbKlD"
      }
    },
    {
      "cell_type": "code",
      "source": [
        "numbers = [1, 2, 3, 4, 5, 6, 7, 8, 9, 10]\n",
        "print(\"Array=\", numbers)\n",
        "\n",
        "numbers.insert(1,19)\n",
        "print(\"New Array=\",numbers)"
      ],
      "metadata": {
        "colab": {
          "base_uri": "https://localhost:8080/"
        },
        "id": "-gvaEZKbbNGb",
        "outputId": "b5abd46a-ffdd-43f3-c7e2-b536b958664b"
      },
      "execution_count": 134,
      "outputs": [
        {
          "output_type": "stream",
          "name": "stdout",
          "text": [
            "Array= [1, 2, 3, 4, 5, 6, 7, 8, 9, 10]\n",
            "New Array= [1, 19, 2, 3, 4, 5, 6, 7, 8, 9, 10]\n"
          ]
        }
      ]
    },
    {
      "cell_type": "markdown",
      "source": [
        "4. Write a Python program to reverse the order of the items in the array. Original\n",
        "array: numbers = [5, 4, 3, 2, 1]"
      ],
      "metadata": {
        "id": "WtDHtKsYbnW7"
      }
    },
    {
      "cell_type": "code",
      "source": [
        "numbers = [5, 4, 3, 2, 1]\n",
        "numbers.reverse()\n",
        "print(numbers)"
      ],
      "metadata": {
        "colab": {
          "base_uri": "https://localhost:8080/"
        },
        "id": "Y_maN6x3cNuk",
        "outputId": "1e5d4d0e-ab45-470a-f396-e3b0982a4ddc"
      },
      "execution_count": 135,
      "outputs": [
        {
          "output_type": "stream",
          "name": "stdout",
          "text": [
            "[1, 2, 3, 4, 5]\n"
          ]
        }
      ]
    },
    {
      "cell_type": "markdown",
      "source": [
        "5. Write a Python program to get the length of the array. Original array: numbers =\n",
        "[5, 4, 3, 2, 1]"
      ],
      "metadata": {
        "id": "QPlTvGMJdYMI"
      }
    },
    {
      "cell_type": "code",
      "source": [
        "numbers = [5, 4, 3, 2, 1]\n",
        "arr = len(numbers)\n",
        "print(arr)"
      ],
      "metadata": {
        "colab": {
          "base_uri": "https://localhost:8080/"
        },
        "id": "yhbiEuIddbkt",
        "outputId": "89bbae0e-9700-4079-ec41-3141120e4629"
      },
      "execution_count": 136,
      "outputs": [
        {
          "output_type": "stream",
          "name": "stdout",
          "text": [
            "5\n"
          ]
        }
      ]
    }
  ]
}