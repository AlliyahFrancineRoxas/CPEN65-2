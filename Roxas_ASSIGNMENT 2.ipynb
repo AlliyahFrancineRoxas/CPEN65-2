{
  "nbformat": 4,
  "nbformat_minor": 0,
  "metadata": {
    "colab": {
      "provenance": [],
      "authorship_tag": "ABX9TyPg6Sxuukw5D7gfbnAI4Fy5",
      "include_colab_link": true
    },
    "kernelspec": {
      "name": "python3",
      "display_name": "Python 3"
    },
    "language_info": {
      "name": "python"
    }
  },
  "cells": [
    {
      "cell_type": "markdown",
      "metadata": {
        "id": "view-in-github",
        "colab_type": "text"
      },
      "source": [
        "<a href=\"https://colab.research.google.com/github/AlliyahFrancineRoxas/CPEN65-2/blob/main/Roxas_ASSIGNMENT%202.ipynb\" target=\"_parent\"><img src=\"https://colab.research.google.com/assets/colab-badge.svg\" alt=\"Open In Colab\"/></a>"
      ]
    },
    {
      "cell_type": "code",
      "execution_count": 4,
      "metadata": {
        "colab": {
          "base_uri": "https://localhost:8080/"
        },
        "id": "FCv_a387N-Kd",
        "outputId": "4ee556bb-fb9e-467c-b2e2-951a34482018"
      },
      "outputs": [
        {
          "output_type": "stream",
          "name": "stdout",
          "text": [
            "[3, 5, 19]\n",
            "[3, 5]\n",
            "[3]\n",
            "[]\n"
          ]
        }
      ],
      "source": [
        "#Application 1\n",
        "\n",
        "#Implement the above program by Queues Data Structure (enqueue and dequeue/FIFO principle)\n",
        "\n",
        "class Queue:\n",
        "  def __init__(self):\n",
        "    self.queue=[]\n",
        "\n",
        "  def enqueue(self, dataval):\n",
        "    if dataval not in self.queue:\n",
        "      return self.queue.append(dataval)\n",
        "    else:\n",
        "      return False\n",
        "\n",
        "  def dequeue(self):\n",
        "    if len(self.queue)<1:\n",
        "      return \"Queue is empty\"\n",
        "    else:\n",
        "      return self.queue.pop()\n",
        "\n",
        "q=Queue()\n",
        "q.enqueue(3)\n",
        "q.enqueue(5)\n",
        "q.enqueue(19)\n",
        "\n",
        "print(q.queue)\n",
        "\n",
        "q.dequeue()\n",
        "print(q.queue)\n",
        "q.dequeue()\n",
        "print(q.queue)\n",
        "q.dequeue()\n",
        "print(q.queue)\n"
      ]
    },
    {
      "cell_type": "code",
      "source": [
        "class Stack:\n",
        "  def __init__(self):\n",
        "    self.stack=[]\n",
        "\n",
        "  def push(self, dataval):\n",
        "    if dataval not in self.stack:\n",
        "      return self.stack.append(dataval)\n",
        "    else:\n",
        "      return False\n",
        "\n",
        "  def pop(self):\n",
        "    if len(self.stack)<=0:\n",
        "      return \"Stack is empty\"\n",
        "    else:\n",
        "      return self.stack.pop()\n",
        "\n",
        "AStack=Stack()\n",
        "AStack.push(1)\n",
        "AStack.push(2)\n",
        "AStack.push(3)\n",
        "\n",
        "print (AStack.stack)\n",
        "\n",
        "AStack.pop()\n",
        "print (AStack.stack)\n",
        "AStack.pop()\n",
        "print (AStack.stack)\n",
        "AStack.pop()\n",
        "print (AStack.stack)"
      ],
      "metadata": {
        "colab": {
          "base_uri": "https://localhost:8080/"
        },
        "id": "lXBbwVE_P3gx",
        "outputId": "e3dcd9c1-ad52-4f10-c608-56dcc12cf2ca"
      },
      "execution_count": 5,
      "outputs": [
        {
          "output_type": "stream",
          "name": "stdout",
          "text": [
            "[1, 2, 3]\n",
            "[1, 2]\n",
            "[1]\n",
            "[]\n"
          ]
        }
      ]
    }
  ]
}