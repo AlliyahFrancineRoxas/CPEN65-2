{
  "nbformat": 4,
  "nbformat_minor": 0,
  "metadata": {
    "colab": {
      "provenance": [],
      "authorship_tag": "ABX9TyNCm/kIIJXVIb3Yd+H35oh4",
      "include_colab_link": true
    },
    "kernelspec": {
      "name": "python3",
      "display_name": "Python 3"
    },
    "language_info": {
      "name": "python"
    }
  },
  "cells": [
    {
      "cell_type": "markdown",
      "metadata": {
        "id": "view-in-github",
        "colab_type": "text"
      },
      "source": [
        "<a href=\"https://colab.research.google.com/github/AlliyahFrancineRoxas/CPEN65-2/blob/main/ROXAS_ACTIVITY%203.ipynb\" target=\"_parent\"><img src=\"https://colab.research.google.com/assets/colab-badge.svg\" alt=\"Open In Colab\"/></a>"
      ]
    },
    {
      "cell_type": "code",
      "source": [
        "#Alliyah Francine Roxas\n",
        "fullname = [\"A\",\"l\",\"l\",\"i\",\"y\",\"a\",\"h\",\"F\",\"r\",\"a\",\"n\",\"c\",\"i\",\"n\",\"e\",\"R\",\"o\",\"x\",\"a\",\"s\"]\n",
        "aesthetic=\"\"\n",
        "fullname.reverse()\n",
        "print(aesthetic.join(fullname))"
      ],
      "metadata": {
        "colab": {
          "base_uri": "https://localhost:8080/"
        },
        "id": "2L5Rm1lk41Jp",
        "outputId": "b63f5b24-8355-4ea6-e5d2-c8e23b62df70"
      },
      "execution_count": 39,
      "outputs": [
        {
          "output_type": "stream",
          "name": "stdout",
          "text": [
            "saxoRenicnarFhayillA\n"
          ]
        }
      ]
    }
  ]
}